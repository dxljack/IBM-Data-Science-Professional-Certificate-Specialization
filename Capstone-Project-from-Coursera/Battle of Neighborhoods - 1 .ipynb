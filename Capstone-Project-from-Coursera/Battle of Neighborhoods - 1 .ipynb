{
 "cells": [
  {
   "cell_type": "markdown",
   "metadata": {},
   "source": [
    "## Part 1:\n",
    "A description of the problem and a discussion of the background.\n",
    "<br>\n",
    "A description of the data and how it will be used to solve the problem."
   ]
  },
  {
   "cell_type": "markdown",
   "metadata": {},
   "source": [
    "### Introduction\n",
    "This project is mainly for people who aim to relocate to a different city due to a new job offering and wish to live up to their standards in the new city.\n",
    "<br>\n",
    "I will try to provide suggestions on the boroughs and neighborhoods based on what factors need to be considered gathered from particular individual.\n",
    "<br>\n",
    "In this project, we will make few assumptions.\n",
    "1. The new city is assumed to be unfamiliar to the individual. For our purpose, assuming the city is Los Angeles. \n",
    "2. The individual is assumed to be Stella, software engineer, who has been working and living in New York City for years.\n",
    "3. The individual is assumed to be well aware of the new job salary. For our purpose, assuming the annual income is $120,000 / year."
   ]
  },
  {
   "cell_type": "markdown",
   "metadata": {},
   "source": [
    "### Business Problem\n",
    "In this project, I will be focus on problems Stella might encounter while deciding to taking on a new job offering in Los Angeles.\n",
    "<br>\n",
    "Before moving to a different city for the new job, there are many factors that one need to consider. As per example, Stella has the following concerns.\n",
    "- Since she's new to the city, she would like to live in somewhere safe. \n",
    "- Maybe living somewhat close to hospital, police department and fire department in case of an emergency.\n",
    "- She would like to rent a place. And if possible, she would consider to buy a house.\n",
    "- She doesn't cook as often, so she would like to live around various restaurants\n",
    "- Convenient transportation is essential. For instance, train stations.\n",
    "- Being close to various venues other than restaurants is a big plus.\n",
    "<br>\n",
    "\n",
    "The real challenge starts from how do we use these factors to make reasonable suggestions to Stella, so that she can better adapt to the new environment as well as living up to her standards.\n",
    "<br>\n",
    "Now let's break it into parts. I will be analyzing each part separately and then integrating all parts together for final analysis and visualization.\n",
    "<br>\n",
    "\n",
    "1st problem is, what data will be based on in order to determine whether a particular area of the city is considered safer than other areas?\n",
    "<br>\n",
    "2nd problem is, what data will be used in order to determine whether she should rent or buy a house?\n",
    "<br> \n",
    "3rd problem is, instead of filtering all restaurants near one particular area, what other criteria will be needed to filter various types of restaurant? ie. Chinese food, Indian food and Italian food, etc.\n",
    "<br>\n",
    "4th problem is, at what degree will the transportation be considered as convenient? ie. right across the street of the house, walking distance or even further?\n",
    "<br>\n",
    "5th problem is, various venues are way to general, is there a way to prioritize certain venues over others?\n",
    "<br>\n",
    "\n",
    "For Part 2 of this project, I will use all the tools learned from this specialization plus some other references to solve these problems one by one.\n",
    "\n"
   ]
  },
  {
   "cell_type": "markdown",
   "metadata": {},
   "source": [
    "### Data Acquiring and How it will be used\n",
    "1. The first piece of information needed in my opinion would be Los Angeles Crime Data, which can be obtained at https://data.lacity.org/A-Safe-City/Crime-Data-from-2010-to-Present/63jg-8b9z. For our purpose however, I will use a much smaller sample of this dataset which can be obtained at https://usc.data.socrata.com/Los-Angeles/Part-II-Crimes-LA-/hfc5-9p65.\n",
    "<br>\n",
    "I will extract the neighborhoods with lowest crime counts. And from the result I will extract the types of crimes occurred most frequently in those neighborhood. The process will be similar to what we did in the SQL course.\n",
    "<br>\n",
    "2. Secondly I will need the data for housing price and rent cost in Los Angeles. For rent price, https://usc.data.socrata.com/Los-Angeles/Rent-Price-LA-/4a97-v5tx. For home price, https://www.zillow.com/los-angeles-ca/home-values/.\n",
    "<br>\n",
    "I will extract average price each neighborhood for rent price data, and then do the same for the home price data. Additional data analysis may be needed, but I will not specify them.\n",
    "<br>\n",
    "One thing to be noted is that all the datasets listed are found on the Internet from various websites. I cannot guarantee the accuracy of the data itself.\n",
    "<br>\n",
    "The process will be similar to what we did in the Data Analysis course.\n",
    "<br>\n",
    "3. Next, I will use FOURSQUARE API to obtain the remaining data about venues around each neighborhood. This includes restaurants, transportation and others. \n",
    "I will filter the neighborhoods which offer big variety of types of restaurants, as well as neighborhoods which are relatively close to major transportation services.\n",
    "<br>\n",
    "Again, additional data analysis might be needed, and I will not specify them. The process will be similar to what we did in the last three modules.\n",
    "<br>\n",
    "\n",
    "Finally, after all the gathered data being analyzed, I will combine all the data into one table. I will make several visualizations including plot, charts, map and clustering. This process will be similar to what we did in the Data Visualization course. Then based on all the previous work, I will make as reasonable suggestions as the solution of this problem proposed in the project. "
   ]
  },
  {
   "cell_type": "code",
   "execution_count": null,
   "metadata": {},
   "outputs": [],
   "source": []
  }
 ],
 "metadata": {
  "kernelspec": {
   "display_name": "Python",
   "language": "python",
   "name": "conda-env-python-py"
  },
  "language_info": {
   "codemirror_mode": {
    "name": "ipython",
    "version": 3
   },
   "file_extension": ".py",
   "mimetype": "text/x-python",
   "name": "python",
   "nbconvert_exporter": "python",
   "pygments_lexer": "ipython3",
   "version": "3.6.7"
  }
 },
 "nbformat": 4,
 "nbformat_minor": 4
}
